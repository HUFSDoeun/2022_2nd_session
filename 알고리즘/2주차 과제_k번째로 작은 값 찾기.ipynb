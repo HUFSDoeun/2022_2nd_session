{
 "cells": [
  {
   "cell_type": "markdown",
   "metadata": {},
   "source": [
    "# [과제 2] -k 번째로 작은 값 차례로 계산하기\n",
    "\n",
    "* 입력 : \n",
    "    n개의 서로 다른 정수값. 리스트A에 있다고 가정\n",
    "    n은 3이상 100000이하\n",
    "* 출력 :\n",
    "    m[i] 는 A[0] , ... A[i]중에서 i//3+1 번째로 작은 값\n",
    "        제일 작은 값은 1번째로 작은 것\n",
    "    모든 i에 대해서 m[i]의 값의 합 출력\n",
    "\n",
    "수행시간이 작을 수록 좋음 \n",
    "heap사용\n",
    "sort사용금지\n",
    "\n",
    "주석 필요\n",
    "    1. 자료구조 알고리즘 설명\n",
    "    2. 수행시간 분석, big -O 표기"
   ]
  },
  {
   "cell_type": "code",
   "execution_count": 89,
   "metadata": {},
   "outputs": [
    {
     "name": "stdout",
     "output_type": "stream",
     "text": [
      "{ 0 번째 숫자가 들어간 heap} [9]\n",
      "1 번째로 작은 값:  9\n",
      "-------------------\n",
      "{ 1 번째 숫자가 들어간 heap} [1, 9]\n",
      "1 번째로 작은 값:  1\n",
      "-------------------\n",
      "{ 2 번째 숫자가 들어간 heap} [1, 9, 3]\n",
      "1 번째로 작은 값:  1\n",
      "-------------------\n",
      "{ 3 번째 숫자가 들어간 heap} [1, 2, 3, 9]\n",
      "1 번 삭제된 힙 [2, 9, 3]\n",
      "2 번째로 작은 값:  2\n",
      "-------------------\n",
      "{ 4 번째 숫자가 들어간 heap} [1, 2, 3, 9, 7]\n",
      "1 번 삭제된 힙 [2, 7, 3, 9]\n",
      "2 번째로 작은 값:  2\n",
      "-------------------\n",
      "{ 5 번째 숫자가 들어간 heap} [0, 2, 1, 9, 7, 3]\n",
      "1 번 삭제된 힙 [1, 2, 3, 9, 7]\n",
      "2 번째로 작은 값:  1\n",
      "-------------------\n",
      "{ 6 번째 숫자가 들어간 heap} [-2, 2, 0, 9, 7, 3, 1]\n",
      "1 번 삭제된 힙 [0, 2, 1, 9, 7, 3]\n",
      "2 번 삭제된 힙 [1, 2, 3, 9, 7]\n",
      "3 번째로 작은 값:  1\n",
      "-------------------\n",
      "{ 7 번째 숫자가 들어간 heap} [-2, 2, 0, 4, 7, 3, 1, 9]\n",
      "1 번 삭제된 힙 [0, 2, 1, 4, 7, 3, 9]\n",
      "2 번 삭제된 힙 [1, 2, 3, 4, 7, 9]\n",
      "3 번째로 작은 값:  1\n",
      "-------------------\n",
      "{ 8 번째 숫자가 들어간 heap} [-2, 2, 0, 4, 7, 3, 1, 9, 5]\n",
      "1 번 삭제된 힙 [0, 2, 1, 4, 7, 3, 5, 9]\n",
      "2 번 삭제된 힙 [1, 2, 3, 4, 7, 9, 5]\n",
      "3 번째로 작은 값:  1\n",
      "-------------------\n",
      "19\n"
     ]
    }
   ],
   "source": [
    "# 필요한 모듈 import\n",
    "import heapq\n",
    "\n",
    "h = [9, 1, 3, 2, 7 ,0 ,-2 ,4 ,5]\n",
    "\n",
    "lst = []\n",
    "sum = 0\n",
    "for i in range(len(h)):\n",
    "    heapq.heappush(lst, h[i])\n",
    "    print(\"{\", i,\"번째 숫자가 들어간 heap}\",lst)\n",
    "\n",
    "    \n",
    "    lst_for_find_min = lst[:] # 최소값을 찾기 위해서 pop할때 사용할 리스트 복제해두기\n",
    "    order = i//3+1 # i//3+1번째로 작은 값\n",
    "    for _ in range(order-1): # order번째 작은 값을 구하기 위해서는 order-1번의 pop을 한 후에 존재하는 heap의 root node가 order번재 작은 값이다.\n",
    "        heapq.heappop(lst_for_find_min)\n",
    "        print(_+1,\"번 삭제된 힙\", lst_for_find_min)\n",
    "    print(i//3+1 ,\"번째로 작은 값: \" , lst_for_find_min[0])\n",
    "    print(\"-------------------\")\n",
    "    sum += lst_for_find_min[0]\n",
    "print(sum)\n",
    "    "
   ]
  },
  {
   "cell_type": "markdown",
   "metadata": {},
   "source": [
    "## code 1\n",
    "1. 리스트에서 숫자를 하나 꺼낸다\n",
    "2. heap에 추가한다\n",
    "3. k-1번 만큼 pop한다.\n",
    "4. root node는 k번째로 작은 값이다.\n",
    "\n",
    "*위 과정을 len(리스트)번 반복한다\n",
    "\n",
    "아래 코드는 돌아가긴 하는데 time out error가 마지막 2문제가 떴음"
   ]
  },
  {
   "cell_type": "code",
   "execution_count": 273,
   "metadata": {},
   "outputs": [
    {
     "name": "stdout",
     "output_type": "stream",
     "text": [
      "0\n"
     ]
    },
    {
     "data": {
      "text/plain": [
       "1.0"
      ]
     },
     "execution_count": 273,
     "metadata": {},
     "output_type": "execute_result"
    }
   ],
   "source": [
    "# 필요한 모듈 import\n",
    "import heapq\n",
    "\n",
    "# 리스트 입력 받기\n",
    "A = list(map(int,input().split( )))\n",
    "\n",
    "hp = []\n",
    "sum = 0\n",
    "\n",
    "for i in range(len(A)): \n",
    "    # heap 만들기\n",
    "    heapq.heappush(hp, A[i]) # O(log n)\n",
    "    hp_for_find_min = hp[:] # O(n) , 최소값을 찾기 위해서 pop할때 사용할 리스트 복제해두기\n",
    "\n",
    "    # pop 하기\n",
    "    k = i//3+1 # k번째로 작은 값\n",
    "    for _ in range(k-1): # order번째 작은 값을 구하기 위해서는 k-1번의 pop을 한 후의 root node가 k번째 작은 값이다.\n",
    "        heapq.heappop(hp_for_find_min) # O(log n)\n",
    "    sum += hp_for_find_min[0]\n",
    "print(sum)\n",
    "\n",
    "'''\n",
    "[사용한 자료구조]: root node의 값이 항상 최소값인 성질을 가지는 min-heap 자료구조를 사용했다.\n",
    "\n",
    "[알고리즘 개요] :\n",
    "1. 리스트에서 숫자를 순서대로 하나 꺼낸다\n",
    "2. heap에 추가한다\n",
    "3. k-1번 만큼 pop한다.\n",
    "4. 이때의 root node는 k번째로 작은 값이므로 이 값을 모두 더한다.\n",
    "* 1,2,3,4의 과정을 A의 길이만큼 반복한다.\n",
    "\n",
    "[수행시간 분석]:\n",
    "입력의 크기가 n이라고 가정한다.\n",
    "heap을 만들때 (O(log n)), k-1번의 pop을 수행할 때 (O((k-1)*log n))의 수행을 모두 n번 반복하므로 위 알고리즘의 수행시간은 O(n*k*log n)이다.\n",
    "최악의 경우 k = n이 되어 이때의 수행시간은 O(n^2 * log n )이 된다.\n",
    "'''\n"
   ]
  },
  {
   "cell_type": "markdown",
   "metadata": {},
   "source": [
    "## code 2\n",
    "더 효율성 높은 코드 고민!!\n",
    "\n",
    "리스트를 복제해두는게 시간이 오래걸리는거 같다. 복제하지 않고 pop한 후 당시 최소 값을 list에 넣어두고 원하는 순서의 숫자를 찾았을때 원상복귀해보는걸로 짜봄\n",
    "\n",
    " heappush : O(log n)시간, heappop : O(log n)시간\n",
    "\n",
    " --> 이게 더 오래걸림 테스트 케이스 3개 불통과"
   ]
  },
  {
   "cell_type": "code",
   "execution_count": 121,
   "metadata": {},
   "outputs": [
    {
     "name": "stdout",
     "output_type": "stream",
     "text": [
      "0\n"
     ]
    }
   ],
   "source": [
    "# 필요한 모듈 import\n",
    "import heapq\n",
    "\n",
    "# 리스트 입력 받기\n",
    "l = list(map(int,input().split( )))\n",
    "\n",
    "hp = []\n",
    "sum = 0\n",
    "for i in range(len(l)): \n",
    "    reset_item = []\n",
    "    heapq.heappush(hp, l[i])\n",
    "    # print(\"처음거 :\" ,hp)\n",
    "    order = i//3+1 # i//3+1번째로 작은 값\n",
    "    \n",
    "    # pop하기\n",
    "    for _ in range(order-1): \n",
    "        reset_item.append(hp[0])\n",
    "        heapq.heappop(hp)\n",
    "    sum += hp[0]\n",
    "    # print(\"pop 후 결과 :\", hp, hp[0])\n",
    "\n",
    "    # 원상복구\n",
    "    for j in range(order-1):\n",
    "        heapq.heappush(hp,reset_item[j])\n",
    "    # print(\"원상복구된거\" ,hp)\n",
    "\n",
    "    # print(\"-----------------------\")\n",
    "print(sum)\n",
    "\n"
   ]
  },
  {
   "cell_type": "markdown",
   "metadata": {},
   "source": [
    "## code 3\n",
    "\n",
    "k-1번 pop을 각 숫자마다 해서 수행시간이 더  걸리는거 같음\n",
    "pop한 결과를 기억하게 코드\n",
    "\n",
    "1. 리스트에서 하나를 꺼낸다. 똑같은 리스트 2 도 만들어 둔다.\n",
    "2. heap에 추가하고 최소값을 리스트로 구해둔다.\n",
    "3. pop횟수 만큼 최솟값리스트에서 뒤에서 k개를"
   ]
  },
  {
   "cell_type": "code",
   "execution_count": 142,
   "metadata": {},
   "outputs": [
    {
     "name": "stdout",
     "output_type": "stream",
     "text": [
      "2\n"
     ]
    }
   ],
   "source": [
    "# 필요한 모듈 import\n",
    "import heapq\n",
    "\n",
    "# 리스트 입력 받기\n",
    "l = [9, 1, 3, 2, 7 ,0 ,-2 ,4 ,5]\n",
    "hp = [l[0]] # heap\n",
    "m = [] # 작은 것들 넣어두는 리스트\n",
    "\n",
    "for i in range(1,len(l)): \n",
    "    heapq.heappush(hp, l[i])\n",
    "    m.append(hp[0])\n",
    "\n",
    "hp2 = []\n",
    "for i in range(len(l)):\n",
    "    if l[i] not in m:\n",
    "        heapq.heappush(hp2,l[i])\n",
    "print(hp2[0])\n"
   ]
  },
  {
   "cell_type": "code",
   "execution_count": 184,
   "metadata": {},
   "outputs": [
    {
     "name": "stdout",
     "output_type": "stream",
     "text": [
      "{ 0 번째 숫자가 들어간 heap} [9]\n",
      "[9]\n",
      "리무브 [9]\n",
      "썸 9\n",
      "---------------------------\n",
      "{ 1 번째 숫자가 들어간 heap} [1, 9]\n",
      "[9, 1]\n",
      "리무브 [9, 1]\n",
      "썸 10\n",
      "---------------------------\n",
      "{ 2 번째 숫자가 들어간 heap} [1, 9, 3]\n",
      "[9, 1]\n",
      "리무브 [1, 9, 3]\n",
      "썸 11\n",
      "---------------------------\n",
      "{ 3 번째 숫자가 들어간 heap} [1, 2, 3, 9]\n",
      "[9, 1]\n",
      "1\n",
      "리무브 [9, 3, 2]\n",
      "썸 13\n",
      "---------------------------\n",
      "{ 4 번째 숫자가 들어간 heap} [1, 2, 3, 9, 7]\n",
      "[9, 1]\n",
      "1\n"
     ]
    },
    {
     "ename": "ValueError",
     "evalue": "list.remove(x): x not in list",
     "output_type": "error",
     "traceback": [
      "\u001b[1;31m---------------------------------------------------------------------------\u001b[0m",
      "\u001b[1;31mValueError\u001b[0m                                Traceback (most recent call last)",
      "\u001b[1;32mUntitled-1.ipynb 셀 9\u001b[0m in \u001b[0;36m<cell line: 11>\u001b[1;34m()\u001b[0m\n\u001b[0;32m     <a href='vscode-notebook-cell:Untitled-1.ipynb?jupyter-notebook#X32sdW50aXRsZWQ%3D?line=25'>26</a>\u001b[0m \u001b[39mif\u001b[39;00m k \u001b[39m>\u001b[39m\u001b[39m=\u001b[39m \u001b[39m2\u001b[39m :\n\u001b[0;32m     <a href='vscode-notebook-cell:Untitled-1.ipynb?jupyter-notebook#X32sdW50aXRsZWQ%3D?line=26'>27</a>\u001b[0m     \u001b[39mprint\u001b[39m(m[\u001b[39m-\u001b[39m(k\u001b[39m-\u001b[39m\u001b[39m1\u001b[39m)])\n\u001b[1;32m---> <a href='vscode-notebook-cell:Untitled-1.ipynb?jupyter-notebook#X32sdW50aXRsZWQ%3D?line=27'>28</a>\u001b[0m     h_remove\u001b[39m.\u001b[39;49mremove(m[\u001b[39m-\u001b[39;49m(k\u001b[39m-\u001b[39;49m\u001b[39m1\u001b[39;49m)])\n\u001b[0;32m     <a href='vscode-notebook-cell:Untitled-1.ipynb?jupyter-notebook#X32sdW50aXRsZWQ%3D?line=28'>29</a>\u001b[0m \u001b[39mprint\u001b[39m(\u001b[39m\"\u001b[39m\u001b[39m리무브\u001b[39m\u001b[39m\"\u001b[39m ,h_remove)\n\u001b[0;32m     <a href='vscode-notebook-cell:Untitled-1.ipynb?jupyter-notebook#X32sdW50aXRsZWQ%3D?line=29'>30</a>\u001b[0m heapq\u001b[39m.\u001b[39mheapify(h_remove)\n",
      "\u001b[1;31mValueError\u001b[0m: list.remove(x): x not in list"
     ]
    }
   ],
   "source": [
    "# 필요한 모듈 import\n",
    "import heapq\n",
    "\n",
    "h = [9, 1, 3, 2, 7 ,0 ,-2 ,4 ,5]\n",
    "\n",
    "\n",
    "heap = [] # 일반적인 힙\n",
    "m = [h[0]] # 가장 작은 값을 넣어둔 리스트\n",
    "sum = 0\n",
    "h_remove = []\n",
    "for i in range(len(h)):\n",
    "    h_remove.append(h[i])\n",
    "    # k 번째로 작은 숫자를 찾으면 된다.\n",
    "    k = i//3 + 1\n",
    "\n",
    "    # 일반적인 힙\n",
    "    heapq.heappush(heap, h[i])\n",
    "    print(\"{\", i,\"번째 숫자가 들어간 heap}\",heap)\n",
    "\n",
    "    # 역대 작았던 값을 모아두기 heap의 가장 앞에 있는 값이 \n",
    "    if m[-1] != heap[0] : m.append(heap[0])\n",
    "    print(m)\n",
    "    \n",
    "\n",
    "    # pop을 해야하는 경우\n",
    "    if k >= 2 :\n",
    "        print(m[-(k-1)])\n",
    "        h_remove.remove(m[-(k-1)])\n",
    "    print(\"리무브\" ,h_remove)\n",
    "    heapq.heapify(h_remove)\n",
    "    sum += h_remove[0]\n",
    "    print(\"썸\" ,sum)\n",
    "    print(\"---------------------------\")\n",
    "print(sum)"
   ]
  },
  {
   "cell_type": "code",
   "execution_count": 233,
   "metadata": {},
   "outputs": [
    {
     "name": "stdout",
     "output_type": "stream",
     "text": [
      "19\n"
     ]
    }
   ],
   "source": [
    "\n",
    "import heapq\n",
    "\n",
    "h = [9, 1, 3, 2, 7 ,0 ,-2 ,4 ,5]\n",
    "heap = []\n",
    "\n",
    "h_remove  = []\n",
    "m = [h[0]]\n",
    "sum = 0\n",
    "\n",
    "for i in range(len(h)):\n",
    "    h_remove= h[:i+1]\n",
    "\n",
    "    heapq.heappush(heap, h[i])\n",
    "    if m[-1] > heap[0]: m.append(heap[0]) # 현재 heap에서 최소값이 들어감\n",
    "\n",
    "    k = i//3\n",
    "    for j in range(k):\n",
    "        h_remove.remove(m[-(j+1)])\n",
    "    heapq.heapify(h_remove)\n",
    "    sum += h_remove[0]\n",
    "print(sum)\n",
    "\n",
    "    # heapq.heapify(h_remove)\n",
    "    # print(h_remove[0])\n",
    "    # sum += h_remove[0]\n"
   ]
  },
  {
   "cell_type": "code",
   "execution_count": null,
   "metadata": {},
   "outputs": [],
   "source": [
    "# 필요한 모듈 import\n",
    "import heapq\n",
    "\n",
    "# 리스트 입력 받기\n",
    "l = list(map(int,input().split( )))\n",
    "\n",
    "hp = []\n",
    "sum = 0\n",
    "for i in range(len(l)): \n",
    "    heapq.heappush(hp, l[i])\n",
    "    hp_for_find_min = hp[:] # 최소값을 찾기 위해서 pop할때 사용할 리스트 복제해두기\n",
    "    order = i//3+1 # i//3+1번째로 작은 값\n",
    "    for _ in range(order-1): # order번째 작은 값을 구하기 위해서는 order-1번의 pop을 한 후에 존재하는 heap의 root node가 order번재 작은 값이다.\n",
    "        heapq.heappop(hp_for_find_min)\n",
    "    sum += hp_for_find_min[0]\n",
    "print(sum)"
   ]
  },
  {
   "cell_type": "code",
   "execution_count": 271,
   "metadata": {},
   "outputs": [
    {
     "name": "stdout",
     "output_type": "stream",
     "text": [
      "19\n"
     ]
    }
   ],
   "source": [
    "# 필요한 모듈 import\n",
    "import heapq\n",
    "\n",
    "# 리스트 입력 받기\n",
    "l = list(map(int,input().split( )))\n",
    "\n",
    "hp = []\n",
    "sum = 0\n",
    "for i in range(len(l)): \n",
    "    L = l[:i+1]\n",
    "    heapq.heapify(L)\n",
    "    order = i//3+1 # i//3+1번째로 작은 값\n",
    "    for _ in range(order-1): # order번째 작은 값을 구하기 위해서는 order-1번의 pop을 한 후에 존재하는 heap의 root node가 order번째 작은 값이다.\n",
    "        heapq.heappop(L)\n",
    "    sum += L[0]\n",
    "print(sum)"
   ]
  },
  {
   "cell_type": "code",
   "execution_count": 272,
   "metadata": {},
   "outputs": [
    {
     "name": "stdout",
     "output_type": "stream",
     "text": [
      "33\n"
     ]
    }
   ],
   "source": [
    "# 필요한 모듈 import\n",
    "import heapq\n",
    "\n",
    "# 리스트 입력 받기\n",
    "l = list(map(int,input().split( )))\n",
    "\n",
    "hp = []\n",
    "sum = 0\n",
    "for i in range(len(l)): \n",
    "    # heap 만들기\n",
    "    heapq.heappush(hp, l[i]) # O(log n)\n",
    "    hp_for_find_min = hp[:] # O(n) , 최소값을 찾기 위해서 pop할때 사용할 리스트 복제해두기\n",
    "\n",
    "    # pop 하기\n",
    "    k = i//3+1 # k번째로 작은 값\n",
    "    for _ in range(k-1): # order번째 작은 값을 구하기 위해서는 k-1번의 pop을 한 후의 root node가 k번째 작은 값이다.\n",
    "        heapq.heappop(hp_for_find_min) # O(log n)\n",
    "    sum += hp_for_find_min[0]\n",
    "print(sum)"
   ]
  },
  {
   "cell_type": "code",
   "execution_count": 5,
   "metadata": {},
   "outputs": [
    {
     "name": "stdout",
     "output_type": "stream",
     "text": [
      "9\n",
      "1\n",
      "3\n",
      "2\n",
      "2\n",
      "0\n",
      "-2\n",
      "-2\n",
      "-2\n"
     ]
    }
   ],
   "source": [
    "# 필요한 모듈 import\n",
    "import heapq\n",
    "\n",
    "A = [9, 1, 3, 2, 7 ,0 ,-2 ,4 ,5]\n",
    "\n",
    "hp = []\n",
    "sum = 0\n",
    "\n",
    "for i in range(len(A)):\n",
    "\n",
    "    # heap 만들기\n",
    "    heapq.heappush(hp,A[i])\n",
    "    \n",
    "\n",
    "    # pop 하기\n",
    "    if i//3== 0 :\n",
    "        current_min = heapq.heappop(hp) # 최소값\n",
    "    elif i//3 != 0 :\n",
    "        current_min = min(A[i], current_min)\n",
    "    print(current_min)\n",
    "    "
   ]
  },
  {
   "cell_type": "code",
   "execution_count": null,
   "metadata": {},
   "outputs": [],
   "source": [
    "# 필요한 모듈 import\n",
    "import heapq\n",
    "\n",
    "A = [9, 1, 3, 2, 7 ,0 ,-2 ,4 ,5]\n",
    "\n",
    "hp = []\n",
    "sum = 0\n",
    "\n",
    "for i in range(len(A)):\n",
    "    heapq.heappush(hp,A[i])\n",
    "    heapq.heappush(hp2, A[i])"
   ]
  },
  {
   "cell_type": "code",
   "execution_count": 6,
   "metadata": {},
   "outputs": [
    {
     "ename": "SyntaxError",
     "evalue": "expected ':' (4050932899.py, line 3)",
     "output_type": "error",
     "traceback": [
      "\u001b[1;36m  Input \u001b[1;32mIn [6]\u001b[1;36m\u001b[0m\n\u001b[1;33m    if k == 0\u001b[0m\n\u001b[1;37m              ^\u001b[0m\n\u001b[1;31mSyntaxError\u001b[0m\u001b[1;31m:\u001b[0m expected ':'\n"
     ]
    }
   ],
   "source": [
    "def find_min(hp, k):\n",
    "    for i in range(k):\n",
    "        if k == 0 :\n",
    "            return hp[i]\n",
    "        else:\n",
    "            left_idx = 2*i +1\n",
    "            right_idx = 2*i + 2\n",
    "            if hp[left_idx] > hp[right_idx]:\n",
    "                \n",
    "        kid1_idx =2*n+1\n",
    "    "
   ]
  },
  {
   "cell_type": "markdown",
   "metadata": {},
   "source": [
    "# 아제발"
   ]
  },
  {
   "cell_type": "code",
   "execution_count": null,
   "metadata": {},
   "outputs": [],
   "source": [
    "yy"
   ]
  },
  {
   "cell_type": "code",
   "execution_count": 85,
   "metadata": {},
   "outputs": [
    {
     "name": "stdout",
     "output_type": "stream",
     "text": [
      "k 0 level 0\n",
      "dlfqjs 9\n",
      "k 0 level 0\n",
      "dlfqjs 1\n",
      "k 0 level 0\n",
      "dlfqjs 1\n",
      "k 1 level 1\n",
      "[2, 3]\n",
      "k 1 level 1\n",
      "[2, 3]\n",
      "k 1 level 1\n",
      "[2, 1]\n",
      "k 2 level 2\n",
      "[9, 7, 3, 1]\n",
      "k 2 level 2\n",
      "[4, 7, 3, 1]\n",
      "k 2 level 2\n",
      "[4, 7, 3, 1]\n"
     ]
    }
   ],
   "source": [
    "# 필요한 모듈 import\n",
    "import heapq\n",
    "import math\n",
    "\n",
    "A = [9, 1, 3, 2, 7 ,0 ,-2 ,4 ,5]\n",
    "\n",
    "hp = []\n",
    "sum = 0\n",
    "pre_indx = 0\n",
    "for i in range(len(A)):\n",
    "    heapq.heappush(hp,A[i])\n",
    "    k = i//3\n",
    "    level = round(math.log(k+1, 2)) # 바닥레벨은 0\n",
    "    print(\"k\", k,\"level\", level)\n",
    "    if k >= 1:\n",
    "        if i%3 == 0:\n",
    "            pre_indx += 2**(level-1)\n",
    "        level_list = hp[pre_indx : pre_indx + 2**level]\n",
    "        print(level_list)\n",
    "        m = min(level_list)\n",
    "        for j in range(len(level_list)):\n",
    "            if level_list[j] < m:\n",
    "                m = level_list[j]\n",
    "            \n",
    "        #print(2**(level-1), 2**(level))\n",
    "        #print(hp[2**(level-1): 2**(level-1)+2**(level)])\n",
    "    else:  print(\"dlfqjs\", hp[0])"
   ]
  },
  {
   "cell_type": "code",
   "execution_count": 74,
   "metadata": {},
   "outputs": [
    {
     "name": "stdout",
     "output_type": "stream",
     "text": [
      "1\n"
     ]
    }
   ],
   "source": [
    "\n",
    "level = int(math.log(3, 2))\n",
    "print(level)"
   ]
  },
  {
   "cell_type": "code",
   "execution_count": 71,
   "metadata": {},
   "outputs": [
    {
     "data": {
      "text/plain": [
       "0"
      ]
     },
     "execution_count": 71,
     "metadata": {},
     "output_type": "execute_result"
    }
   ],
   "source": [
    "int(0.1)"
   ]
  },
  {
   "cell_type": "markdown",
   "metadata": {},
   "source": [
    "## 구름 제출용 최종 코드 코드\n",
    "주석포함"
   ]
  },
  {
   "cell_type": "code",
   "execution_count": 110,
   "metadata": {},
   "outputs": [
    {
     "name": "stdout",
     "output_type": "stream",
     "text": [
      "[9, 1, 3, 2, 7, 0, -2, 4, 5]\n",
      "19\n"
     ]
    }
   ],
   "source": [
    "## 자료구조는 heap을 이용하였다. heap\n",
    "\n",
    "# 필요한 모듈 import\n",
    "import heapq\n",
    "\n",
    "# 리스트 입력 받기\n",
    "h = list(map(int,input().split( )))\n",
    "\n",
    "lst = []\n",
    "sum = 0\n",
    "for i in range(len(h)): \n",
    "    heapq.heappush(lst, h[i])\n",
    "    lst_for_find_min = lst[:] # 최소값을 찾기 위해서 pop할때 사용할 리스트 복제해두기\n",
    "    order = i//3+1 # i//3+1번째로 작은 값\n",
    "    for _ in range(order-1): # order번째 작은 값을 구하기 위해서는 order-1번의 pop을 한 후에 존재하는 heap의 root node가 order번재 작은 값이다.\n",
    "        heapq.heappop(lst_for_find_min)\n",
    "    sum += lst_for_find_min[0]\n",
    "print(sum)"
   ]
  },
  {
   "cell_type": "code",
   "execution_count": 108,
   "metadata": {},
   "outputs": [
    {
     "name": "stdout",
     "output_type": "stream",
     "text": [
      "[1, 2, 3]\n"
     ]
    }
   ],
   "source": [
    "ip = list(map(int,input().split( )))\n",
    "print(ip)"
   ]
  },
  {
   "cell_type": "code",
   "execution_count": 107,
   "metadata": {},
   "outputs": [
    {
     "name": "stdout",
     "output_type": "stream",
     "text": [
      "['1', '2', '3']\n"
     ]
    }
   ],
   "source": [
    "print(input().split( ))"
   ]
  }
 ],
 "metadata": {
  "kernelspec": {
   "display_name": "Python 3.10.1 64-bit",
   "language": "python",
   "name": "python3"
  },
  "language_info": {
   "codemirror_mode": {
    "name": "ipython",
    "version": 3
   },
   "file_extension": ".py",
   "mimetype": "text/x-python",
   "name": "python",
   "nbconvert_exporter": "python",
   "pygments_lexer": "ipython3",
   "version": "3.10.1"
  },
  "orig_nbformat": 4,
  "vscode": {
   "interpreter": {
    "hash": "368bd5641beab35daee4b9e712cc26f6eb5390ac9e8aaf99cd7917a611bb38ac"
   }
  }
 },
 "nbformat": 4,
 "nbformat_minor": 2
}
