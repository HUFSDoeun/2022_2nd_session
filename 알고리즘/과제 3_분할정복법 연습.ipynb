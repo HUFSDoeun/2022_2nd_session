{
 "cells": [
  {
   "cell_type": "markdown",
   "metadata": {},
   "source": [
    "# 1. 분할정복 rotating list\n",
    "* 리스트의 A의 값을 오름차순으로 정렬한 후 왼쪽 방향으로 몇번 rotation이동함. \n",
    "\n",
    "* 입력 : 서로다른 n개의 값을 오름차순으로 정렬한 후 k번 왼쪽 회전을 리스트 A\n",
    "\n",
    "* 출력 : A에 대한 회전 횟수 k값\n",
    "\n",
    "* 목표 : k 값을 찾기위한 비교연산의 횟수를 최대한 줄이는것"
   ]
  },
  {
   "cell_type": "markdown",
   "metadata": {},
   "source": [
    "```\n",
    "# 입력\n",
    "5 6 1 2 3 4\n",
    "\n",
    "# 출력\n",
    "4\n",
    "```"
   ]
  },
  {
   "cell_type": "markdown",
   "metadata": {},
   "source": [
    "아래 코드는 돌아가긴하나 O(n) 정도의 수행시간이 든다. 더 줄일 수 있는 방법을 모색 해야함"
   ]
  },
  {
   "cell_type": "code",
   "execution_count": 1,
   "metadata": {},
   "outputs": [
    {
     "name": "stdout",
     "output_type": "stream",
     "text": [
      "4\n"
     ]
    }
   ],
   "source": [
    "A = list(map(int,input().split()))\n",
    "idx = A.index(min(A))\n",
    "rotate = len(A)-idx\n",
    "if rotate == len(A):\n",
    "\trotate = 0\n",
    "print(rotate)"
   ]
  },
  {
   "cell_type": "markdown",
   "metadata": {},
   "source": [
    "## 분할정복법 사용\n",
    "binary search 방법을 이용해서 O(log n)까지 줄여보자"
   ]
  },
  {
   "cell_type": "markdown",
   "metadata": {},
   "source": [
    "```\n",
    "예시 테케 1 : \n",
    "15 18 20 31 5 8 9\n",
    "\n",
    "예시 테케 2 :\n",
    "18 20 31 5 8 9 15\n",
    "```"
   ]
  },
  {
   "cell_type": "code",
   "execution_count": 1,
   "metadata": {},
   "outputs": [
    {
     "name": "stdout",
     "output_type": "stream",
     "text": [
      "3\n"
     ]
    },
    {
     "data": {
      "text/plain": [
       "\"\\n[전반적인 알고리즘 과정]\\nrotation이 존재다면 최대값 다음에 최소값이 오게된다. 따라서 최대값을 갖는 함수를 정의하여 재귀적으로 최대값을 찾도록했다. 이때 최대값과 최소값이 붙어있는 부분을 '로테이션 된 기점' 이라고 생각했다.\\n최대값을 찾는 함수인 find_max()를 정의 한다. 변수로는 A: 리스트 , l : 좌측 인덱스 , r :우측 인덱스\\n왼쪽과 오른쪽 인덱스의 중간 인덱스를 m으로 정의한다. 만약 A[0]가 A[n-1]보다 작다면 rotation이 되지 않았다는 의미이므로 0을 리턴한다.\\n반대로 A[0]이 A[n-1]보다 크다면 rotation이 존재 했다는 의미이므로 이 경우만 고려하면된다. \\nA[m]이 A[l]보다 크다면 l~m 범위는 로테이션 된 기점이 존재하지 않고 순서대로 정렬되어 있으므로 최대값은 m 의 오른쪽 부분에 존재한다. 따라서 m~r 범위에서 find_max 함수를 재귀 호츨한다.\\nA[m]이 A[r]보다 작다면 m~r 범위는 로테이션 된 기점이 존재하지 않고 최대값은 m의 왼쪽부분에 존재한다. 따라서 0~m 범위에서 find_max함수를 재귀호출한다.\\n\\nfind_max 함수는 자신을 재귀 호출 하기 전까지 비교하는 횟수는 다음과 같다. \\nA[0]가 A[n-1]보다 작음을 판별 - 1회\\nA[0]가 A[n-1]보다 작음을 판별 - 1회\\nA[0]가 A[n-1]보다 작을때, A[m]과 A[l] 또는 A[r]과의 관계를 판별 - 최대 2회\\n즉, worst case에서 자기 자신을 재귀 호출을 하기 전까지 총 4회의 비교를 수행한다.\\n\\n위 알고리즘의 수행시간을 점화식으로 나타내면 다음과 같다. \\nT(n) = T(n/2) + c\\n점화식을 풀어보면  T(n) = T(n/2^k) + kc이고 Big-O로 표기하면 O(log n)이다.\\n\""
      ]
     },
     "execution_count": 1,
     "metadata": {},
     "output_type": "execute_result"
    }
   ],
   "source": [
    "def find_max(A, l,r):\n",
    "    # if len(A) <= 0 : return -1 # 비교 1회\n",
    "    m = (l+r)//2\n",
    "    \n",
    "    if A[0] < A[len(A)-1]: # 비교 1회\n",
    "        return 0\n",
    "    elif A[0] > A[len(A)-1]: # 비교 1회\n",
    "        if A[m] > A[l]: return find_max(A,m,r) #비교 1회\n",
    "        elif A[m] < A[r] : return find_max(A, 0, m) #비교 1회\n",
    "    return len(A)-m-1\n",
    "\n",
    "\n",
    "A = list(map(int,input().split()))\n",
    "print(find_max(A, 0 , len(A)-1))\n",
    "\n",
    "\n",
    "\n",
    "'''\n",
    "[전반적인 알고리즘 과정]\n",
    "rotation이 존재다면 최대값 다음에 최소값이 오게된다. 따라서 최대값을 갖는 함수를 정의하여 재귀적으로 최대값을 찾도록했다. 이때 최대값과 최소값이 붙어있는 부분을 '로테이션 된 기점' 이라고 생각했다.\n",
    "최대값을 찾는 함수인 find_max()를 정의 한다. 변수로는 A: 리스트 , l : 좌측 인덱스 , r :우측 인덱스\n",
    "왼쪽과 오른쪽 인덱스의 중간 인덱스를 m으로 정의한다. 만약 A[0]가 A[n-1]보다 작다면 rotation이 되지 않았다는 의미이므로 0을 리턴한다.\n",
    "반대로 A[0]이 A[n-1]보다 크다면 rotation이 존재 했다는 의미이므로 이 경우만 고려하면된다. \n",
    "A[m]이 A[l]보다 크다면 l~m 범위는 로테이션 된 기점이 존재하지 않고 순서대로 정렬되어 있으므로 최대값은 m 의 오른쪽 부분에 존재한다. 따라서 m~r 범위에서 find_max 함수를 재귀 호츨한다.\n",
    "A[m]이 A[r]보다 작다면 m~r 범위는 로테이션 된 기점이 존재하지 않고 최대값은 m의 왼쪽부분에 존재한다. 따라서 0~m 범위에서 find_max함수를 재귀호출한다.\n",
    "\n",
    "find_max 함수는 자신을 재귀 호출 하기 전까지 비교하는 횟수는 다음과 같다. \n",
    "A[0]가 A[n-1]보다 작음을 판별 - 1회\n",
    "A[0]가 A[n-1]보다 작음을 판별 - 1회\n",
    "A[0]가 A[n-1]보다 작을때, A[m]과 A[l] 또는 A[r]과의 관계를 판별 - 최대 2회\n",
    "즉, worst case에서 자기 자신을 재귀 호출을 하기 전까지 총 4회의 비교를 수행한다.\n",
    "\n",
    "위 알고리즘의 수행시간을 점화식으로 나타내면 다음과 같다. \n",
    "T(n) = T(n/2) + c\n",
    "점화식을 풀어보면  T(n) = T(n/2^k) + kc이고 Big-O로 표기하면 O(log n)이다.\n",
    "'''\n"
   ]
  },
  {
   "cell_type": "markdown",
   "metadata": {},
   "source": [
    "# 2. 2차원 정렬된 배열에서 탐색 (분할정복)\n",
    "\n",
    "* 2차원 리스트 , 서로 다른 정수 \n",
    "* 입력 :\n",
    "\n",
    "    * 첫줄-> n K ,  n= 2^k , K는 탐색하고 싶은 값\n",
    "\n",
    "    * 두번째 줄 ~ : 한줄에 한행의 값 n개씩 주어짐,(행마다 열마다 오름차순으로 정렬된 상태로 주어진다고 가정)\n",
    "\n",
    "\n",
    "* 출력 :\n",
    "    * K 값이 (i,j)에 있다면 (i,j)를 출력하고 없다면(-1,-1)을 출력"
   ]
  },
  {
   "cell_type": "markdown",
   "metadata": {},
   "source": [
    "예시 1\n",
    "```\n",
    "# 입력\n",
    "4 16\n",
    "2 5 10 19\n",
    "3 8 16 19\n",
    "7 20 20 32\n",
    "13 25 37 44\n",
    "\n",
    "# 출력\n",
    "(1, 2)\n",
    "```"
   ]
  },
  {
   "cell_type": "code",
   "execution_count": 2,
   "metadata": {},
   "outputs": [
    {
     "name": "stdout",
     "output_type": "stream",
     "text": [
      "(1,2)\n"
     ]
    },
    {
     "data": {
      "text/plain": [
       "'\\n[전반적인 알고리즘 과정]\\n1. n, K를 입력받고 행렬 A는 이중 리스트 형태로 입력받는다.\\n\\n2. search_quarter_part(p,A,n,m,K) 함수 정의\\n    교재에 설명하는 방식대로 중간을 기점으로 사분면을 나누어, 해당 사분면 내에서 K를 search하는 함수이다. \\n    변수로는 p : p사분면 , A : 입력받은 matrix , n = matrix의 행(열) 수 , m = 사분면을 나누는 기점이 되는 index (x의 행(열) index와 동일), K = 찾고 싶은 값\\n    2-1. p에 따라서 p사분면에 해당하는 행,열 인덱스 값의 상한과 하한을 정의한다. (row_under, row_over, col_under, col_over)\\n    2-2. 정의된 범위 내에서 K와 동일한 값이 있는지 이중 for문을 이용하여 찾고, 행,열 index를 리턴한다. 만약 해당 사분면 내에 K가 존재 하지 않는다면 None을 리턴한다.\\n    search_quarter_part()함수를 수행하는데 걸리는 시간은 T(n/2 * n/2)+c 시간이 걸린다.\\n\\n3. 사분면을 나누는 기점이 되는 값인 x,y와 K값 사이의 관계를 이용하여 몇사분면을 탐색할지 결정하고 K를 찾는다\\n     K 와 x의 관계에 따라서 탐색할 사분면을 정하고 search_quarter_part함수를 최대 3번 불러온다. 리턴된 i,j가 None이 아니라면 (값을 갖는다면) i,j를 출력하고 수행을 종료한다.\\n     i, j가 None이라면 A에 K가 존재하지 않는다는 의미이므로 (-1,-1)을 출력한다.\\n\\n[수행시간]\\nsearch_quarter_part()함수를 실행하면 수행시간 : T(n/2 * T/2) +c 이고, 이를 최대 3번 불러오므로 전체 코드의 수행시간을 점화식으로 나타내면 다음과 같다.\\nT(n*n) = 3 * T(n/2 * n/2) + c \\n이 점화식은 T(n) = 3T(n/2) +c 로 나타낼 수 있고 이 점화식을 풀게되면 T(n) = c * 3^(log_{2}{n})으로 나타낼 수 있다. \\n즉, Big-O를 이용하여 나타내면 수행시간은 O(n^(log_{2}{n}))= O(n^{log_2^3})이 된다. 이는 약 O(n^{1.58})이다.\\n     \\n'"
      ]
     },
     "execution_count": 2,
     "metadata": {},
     "output_type": "execute_result"
    },
    {
     "ename": "",
     "evalue": "",
     "output_type": "error",
     "traceback": [
      "\u001b[1;31m현재 셀 또는 이전 셀에서 코드를 실행하는 동안 Kernel이 충돌했습니다. 셀의 코드를 검토하여 오류의 가능한 원인을 식별하세요. 자세한 내용을 보려면 <a href='https://aka.ms/vscodeJupyterKernelCrash'> 여기 </a> 를 클릭하세요. 자세한 내용은 Jupyter <a href='command:jupyter.viewOutput'>로그</a>를 참조하세요."
     ]
    }
   ],
   "source": [
    "# 입력 받기\n",
    "n , K = map(int, input().split())\n",
    "\n",
    "A = []\n",
    "for _ in range(n):\n",
    "    A.append(list(map(int,input().split())))\n",
    "\n",
    "\t\n",
    "\n",
    "# 사분면 내에서 동일한 값 찾는 함수 정의\t\n",
    "def search_quarter_part(p,A,n,m,K): # search_quarter_part 함수를 수행하는데 걸린 수행시간 : T(n/2 * n/2) + c\n",
    "    # 인덱스 범위 설정해주기\n",
    "    if p == 1:\n",
    "        row_under, row_over = m+1, n-1\n",
    "        col_under, col_over = 0 , m\n",
    "    elif p == 2 :\n",
    "        row_under, row_over = 0, m\n",
    "        col_under, col_over = 0, m\n",
    "    elif p == 3 :\n",
    "        row_under, row_over = 0, m\n",
    "        col_under, col_over = m+1, n-1\n",
    "    elif p == 4 :\n",
    "        row_under, row_over = m+1, n-1\n",
    "        col_under, col_over = m+1, n-1\n",
    "\n",
    "    # 사분면 내에서 K와 동일한 값 찾기\n",
    "    # (i,j)번째 값이 K라면 i,j를 리턴 하고 해당 사분면을 모두 탐색했음에도 K가 존재하지 않는다면 None을 리턴함\n",
    "    for i in range(row_under,row_over+1): # T(n/2 * n/2) + c\n",
    "        for j in range(col_under, col_over+1):\n",
    "            if A[i][j] == K :\n",
    "                return i, j  \n",
    "    return None, None\n",
    "\n",
    "\n",
    "\n",
    "# ------------------------수행코드 ------------------------------------\n",
    "m = (n-1)//2\n",
    "x = A[m][m]\n",
    "y = A[m+1][m+1]\n",
    "\n",
    "\n",
    "if K < x : # K 가 x보다 작을 경우 1,2,3 사분면만을 탐색하면 됨\n",
    "    for p in [1,2,3]:\n",
    "        i, j = search_quarter_part(p,A,n,m,K)\n",
    "        if i is not None and j is not None: \n",
    "            print(\"({},{})\".format(i,j))\n",
    "            exit()\n",
    "elif K > y : # K 가 y 보다 큰경우 1,3,4 사분면만을 탐색하면 됨\n",
    "    for p in [1,3,4]:\n",
    "        i, j = search_quarter_part(p,A,n,m,K)\n",
    "        if i is not None and j is not None:\n",
    "            print(\"({},{})\".format(i,j))\n",
    "            exit()\n",
    "elif x < K and K < y :  # K가 x와 y 사이에 존재할때 1,3 사분면만 탐색하면 됨\n",
    "    for p in [1,3]:\n",
    "        i, j = search_quarter_part(p,A,n,m,K)\n",
    "        if i is not None and j is not None:\n",
    "            print(\"({},{})\".format(i,j))\n",
    "            exit()\n",
    "\n",
    "# 만약 리턴된 i,j가 None이라면 주어진 행렬에 찾고 싶은 값이 없다는 의미이므로 (-1,-1)를 출력한다.\n",
    "if i is None or j is None : print(\"(-1,-1)\")\n",
    "\n",
    "\n",
    "'''\n",
    "[전반적인 알고리즘 과정]\n",
    "1. n, K를 입력받고 행렬 A는 이중 리스트 형태로 입력받는다.\n",
    "\n",
    "2. search_quarter_part(p,A,n,m,K) 함수 정의\n",
    "    교재에 설명하는 방식대로 중간을 기점으로 사분면을 나누어, 해당 사분면 내에서 K를 search하는 함수이다. \n",
    "    변수로는 p : p사분면 , A : 입력받은 matrix , n = matrix의 행(열) 수 , m = 사분면을 나누는 기점이 되는 index (x의 행(열) index와 동일), K = 찾고 싶은 값\n",
    "    2-1. p에 따라서 p사분면에 해당하는 행,열 인덱스 값의 상한과 하한을 정의한다. (row_under, row_over, col_under, col_over)\n",
    "    2-2. 정의된 범위 내에서 K와 동일한 값이 있는지 이중 for문을 이용하여 찾고, 행,열 index를 리턴한다. 만약 해당 사분면 내에 K가 존재 하지 않는다면 None을 리턴한다.\n",
    "    search_quarter_part()함수를 수행하는데 걸리는 시간은 T(n/2 * n/2)+c 시간이 걸린다.\n",
    "\n",
    "3. 사분면을 나누는 기점이 되는 값인 x,y와 K값 사이의 관계를 이용하여 몇사분면을 탐색할지 결정하고 K를 찾는다\n",
    "     K 와 x의 관계에 따라서 탐색할 사분면을 정하고 search_quarter_part함수를 최대 3번 불러온다. 리턴된 i,j가 None이 아니라면 (값을 갖는다면) i,j를 출력하고 수행을 종료한다.\n",
    "     i, j가 None이라면 A에 K가 존재하지 않는다는 의미이므로 (-1,-1)을 출력한다.\n",
    "\n",
    "[수행시간]\n",
    "search_quarter_part()함수를 실행하면 수행시간 : T(n/2 * T/2) +c 이고, 이를 최대 3번 불러오므로 전체 코드의 수행시간을 점화식으로 나타내면 다음과 같다.\n",
    "T(n*n) = 3 * T(n/2 * n/2) + c \n",
    "이 점화식은 T(n) = 3T(n/2) +c 로 나타낼 수 있고 이 점화식을 풀게되면 T(n) = c * 3^(log_{2}{n})으로 나타낼 수 있다. \n",
    "즉, Big-O를 이용하여 나타내면 수행시간은 O(n^(log_{2}{n}))= O(n^{log_2^3})이 된다. 이는 약 O(n^{1.58})이다.\n",
    "     \n",
    "'''\n"
   ]
  }
 ],
 "metadata": {
  "kernelspec": {
   "display_name": "Python 3.9.12 ('Algorithm')",
   "language": "python",
   "name": "python3"
  },
  "language_info": {
   "codemirror_mode": {
    "name": "ipython",
    "version": 3
   },
   "file_extension": ".py",
   "mimetype": "text/x-python",
   "name": "python",
   "nbconvert_exporter": "python",
   "pygments_lexer": "ipython3",
   "version": "3.9.12"
  },
  "orig_nbformat": 4,
  "vscode": {
   "interpreter": {
    "hash": "41e4619dc24b8d8f6e8a8555598db296d3776422620849780065b18df77d77b2"
   }
  }
 },
 "nbformat": 4,
 "nbformat_minor": 2
}
